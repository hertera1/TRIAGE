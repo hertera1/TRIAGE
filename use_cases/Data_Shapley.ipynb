{
  "cells": [
    {
      "cell_type": "code",
      "execution_count": 1,
      "id": "b-N0UkQidRH-",
      "metadata": {
        "colab": {
          "base_uri": "https://localhost:8080/"
        },
        "id": "b-N0UkQidRH-",
        "outputId": "e33baca5-418d-483f-b5f2-cf3d18fe4613"
      },
      "outputs": [
        {
          "name": "stdout",
          "output_type": "stream",
          "text": [
            "Collecting crepes==0.1.0\n",
            "  Downloading crepes-0.1.0-py3-none-any.whl (13 kB)\n",
            "Collecting pyDVL\n",
            "  Downloading pyDVL-0.7.0-py3-none-any.whl (143 kB)\n",
            "\u001b[2K     \u001b[90m━━━━━━━━━━━━━━━━━━━━━━━━━━━━━━━━━━━━━━━\u001b[0m \u001b[32m143.1/143.1 kB\u001b[0m \u001b[31m4.1 MB/s\u001b[0m eta \u001b[36m0:00:00\u001b[0m\n",
            "\u001b[?25hRequirement already satisfied: numpy in /usr/local/lib/python3.10/dist-packages (from crepes==0.1.0) (1.23.5)\n",
            "Requirement already satisfied: pandas in /usr/local/lib/python3.10/dist-packages (from crepes==0.1.0) (1.5.3)\n",
            "Collecting pyDeprecate>=0.3.2 (from pyDVL)\n",
            "  Downloading pyDeprecate-0.3.2-py3-none-any.whl (10 kB)\n",
            "Requirement already satisfied: scikit-learn in /usr/local/lib/python3.10/dist-packages (from pyDVL) (1.2.2)\n",
            "Requirement already satisfied: scipy>=1.7.0 in /usr/local/lib/python3.10/dist-packages (from pyDVL) (1.11.3)\n",
            "Requirement already satisfied: cvxpy>=1.3.0 in /usr/local/lib/python3.10/dist-packages (from pyDVL) (1.3.2)\n",
            "Requirement already satisfied: joblib in /usr/local/lib/python3.10/dist-packages (from pyDVL) (1.3.2)\n",
            "Collecting pymemcache (from pyDVL)\n",
            "  Downloading pymemcache-4.0.0-py2.py3-none-any.whl (60 kB)\n",
            "\u001b[2K     \u001b[90m━━━━━━━━━━━━━━━━━━━━━━━━━━━━━━━━━━━━━━━━\u001b[0m \u001b[32m60.8/60.8 kB\u001b[0m \u001b[31m5.3 MB/s\u001b[0m eta \u001b[36m0:00:00\u001b[0m\n",
            "\u001b[?25hRequirement already satisfied: cloudpickle in /usr/local/lib/python3.10/dist-packages (from pyDVL) (2.2.1)\n",
            "Requirement already satisfied: tqdm in /usr/local/lib/python3.10/dist-packages (from pyDVL) (4.66.1)\n",
            "Requirement already satisfied: matplotlib in /usr/local/lib/python3.10/dist-packages (from pyDVL) (3.7.1)\n",
            "Requirement already satisfied: osqp>=0.4.1 in /usr/local/lib/python3.10/dist-packages (from cvxpy>=1.3.0->pyDVL) (0.6.2.post8)\n",
            "Requirement already satisfied: ecos>=2 in /usr/local/lib/python3.10/dist-packages (from cvxpy>=1.3.0->pyDVL) (2.0.12)\n",
            "Requirement already satisfied: scs>=1.1.6 in /usr/local/lib/python3.10/dist-packages (from cvxpy>=1.3.0->pyDVL) (3.2.3)\n",
            "Requirement already satisfied: setuptools>65.5.1 in /usr/local/lib/python3.10/dist-packages (from cvxpy>=1.3.0->pyDVL) (67.7.2)\n",
            "Requirement already satisfied: python-dateutil>=2.8.1 in /usr/local/lib/python3.10/dist-packages (from pandas->crepes==0.1.0) (2.8.2)\n",
            "Requirement already satisfied: pytz>=2020.1 in /usr/local/lib/python3.10/dist-packages (from pandas->crepes==0.1.0) (2023.3.post1)\n",
            "Requirement already satisfied: contourpy>=1.0.1 in /usr/local/lib/python3.10/dist-packages (from matplotlib->pyDVL) (1.1.1)\n",
            "Requirement already satisfied: cycler>=0.10 in /usr/local/lib/python3.10/dist-packages (from matplotlib->pyDVL) (0.12.0)\n",
            "Requirement already satisfied: fonttools>=4.22.0 in /usr/local/lib/python3.10/dist-packages (from matplotlib->pyDVL) (4.43.0)\n",
            "Requirement already satisfied: kiwisolver>=1.0.1 in /usr/local/lib/python3.10/dist-packages (from matplotlib->pyDVL) (1.4.5)\n",
            "Requirement already satisfied: packaging>=20.0 in /usr/local/lib/python3.10/dist-packages (from matplotlib->pyDVL) (23.2)\n",
            "Requirement already satisfied: pillow>=6.2.0 in /usr/local/lib/python3.10/dist-packages (from matplotlib->pyDVL) (9.4.0)\n",
            "Requirement already satisfied: pyparsing>=2.3.1 in /usr/local/lib/python3.10/dist-packages (from matplotlib->pyDVL) (3.1.1)\n",
            "Requirement already satisfied: threadpoolctl>=2.0.0 in /usr/local/lib/python3.10/dist-packages (from scikit-learn->pyDVL) (3.2.0)\n",
            "Requirement already satisfied: qdldl in /usr/local/lib/python3.10/dist-packages (from osqp>=0.4.1->cvxpy>=1.3.0->pyDVL) (0.1.7.post0)\n",
            "Requirement already satisfied: six>=1.5 in /usr/local/lib/python3.10/dist-packages (from python-dateutil>=2.8.1->pandas->crepes==0.1.0) (1.16.0)\n",
            "Installing collected packages: pymemcache, pyDeprecate, crepes, pyDVL\n",
            "Successfully installed crepes-0.1.0 pyDVL-0.7.0 pyDeprecate-0.3.2 pymemcache-4.0.0\n"
          ]
        }
      ],
      "source": [
        "!pip install  pyDVL"
      ]
    },
    {
      "cell_type": "code",
      "execution_count": 2,
      "id": "9f9a7dc0-7f54-49ea-af47-b37f2e7d8a18",
      "metadata": {
        "id": "9f9a7dc0-7f54-49ea-af47-b37f2e7d8a18"
      },
      "outputs": [],
      "source": [
        "import sys\n",
        "sys.path.insert(0, \"../\")\n",
        "\n",
        "import numpy as np\n",
        "import pandas as pd\n",
        "import matplotlib.pyplot as plt\n",
        "from sklearn.model_selection import train_test_split\n",
        "\n",
        "from src.utils import *\n",
        "from src.dataloader import *\n",
        "from triage.triage import Triage"
      ]
    },
    {
      "attachments": {},
      "cell_type": "markdown",
      "id": "yPr1f1I0k_sv",
      "metadata": {
        "id": "yPr1f1I0k_sv"
      },
      "source": [
        "### Helper"
      ]
    },
    {
      "cell_type": "code",
      "execution_count": 3,
      "id": "67d42c17",
      "metadata": {
        "id": "67d42c17"
      },
      "outputs": [],
      "source": [
        "def evaluate_methods(X_prop_train, y_prop_train, X_cal, y_cal, X_test, y_test, seed):\n",
        "    from sklearn.metrics import mean_absolute_error as reg_metric\n",
        "    from sklearn.metrics import mean_squared_error as reg_metric_mse\n",
        "    from sklearn.linear_model import  LinearRegression\n",
        "\n",
        "    results = {}\n",
        "    results_mse = {}\n",
        "\n",
        "    ######\n",
        "    myids = we_ids\n",
        "    keep = len(myids)\n",
        "\n",
        "    learner_prop = xgb.XGBRegressor(n_estimators=nest, random_state=seed)\n",
        "    learner_prop.fit(X_prop_train[myids,:], y_prop_train[myids])\n",
        "\n",
        "    y_pred = learner_prop.predict(X_test)\n",
        "\n",
        "    results['TRIAGE'] = reg_metric(y_test, y_pred)\n",
        "    results_mse['TRIAGE'] = reg_metric_mse(y_test, y_pred)\n",
        "\n",
        "\n",
        "    return results, results_mse"
      ]
    },
    {
      "attachments": {},
      "cell_type": "markdown",
      "id": "DVYGLnvalCC0",
      "metadata": {
        "id": "DVYGLnvalCC0"
      },
      "source": [
        "### Data Valuation"
      ]
    },
    {
      "cell_type": "code",
      "execution_count": 6,
      "id": "9b6453be",
      "metadata": {
        "id": "9b6453be"
      },
      "outputs": [],
      "source": [
        "from pydvl.value import *\n",
        "from pydvl.utils import Dataset\n",
        "\n",
        "def evaluate_dv(X_prop_train, y_prop_train, X_cal, y_cal, X_test, y_test, seed, method = 'shap', n_keep=100):\n",
        "    from sklearn.metrics import mean_absolute_error as reg_metric\n",
        "    from sklearn.metrics import mean_squared_error as reg_metric_mse\n",
        "    from sklearn.linear_model import  LinearRegression\n",
        "    import xgboost as xgb\n",
        "\n",
        "    train_ids = random.sample(list(range(len(y_prop_train))),int(1*len(y_prop_train)))\n",
        "    y_prop_train = y_prop_train[train_ids]\n",
        "    X_prop_train = X_prop_train[train_ids,:]\n",
        "\n",
        "\n",
        "    X_prop_train = np.array(X_prop_train)\n",
        "    y_prop_train = np.array(y_prop_train)\n",
        "    X_cal = np.array(X_cal)\n",
        "    y_cal = np.array(y_cal)\n",
        "\n",
        "    dataset = Dataset(X_prop_train, y_prop_train, X_cal, y_cal)\n",
        "\n",
        "    model = xgb.XGBRegressor(n_estimators=10, random_state=seed)\n",
        "    utility = Utility(\n",
        "        model=model,\n",
        "        data=dataset,\n",
        "        scorer=Scorer(\"neg_mean_absolute_error\", default=0.0),\n",
        "    )\n",
        "\n",
        "\n",
        "\n",
        "    values = compute_shapley_values(\n",
        "              utility,\n",
        "              mode=ShapleyMode.TruncatedMontecarlo,\n",
        "              # Stop if the standard error is below 1% of the range of the values (which is ~2),\n",
        "              # or if the number of updates exceeds 1000\n",
        "              done=AbsoluteStandardError(threshold=0.2, fraction=0.9) | MaxUpdates(1000),\n",
        "              n_jobs=-1,\n",
        "          )\n",
        "\n",
        "    myids = we_ids\n",
        "    keep = n_keep\n",
        "\n",
        "    values.sort(key=\"value\")\n",
        "    keeplow = values.indices[0:keep]\n",
        "    keephigh = values.indices[-keep:]\n",
        "\n",
        "    results = {}\n",
        "    results_mse = {}\n",
        "    print('DV...')\n",
        "    learner_prop = xgb.XGBRegressor(n_estimators=nest, random_state=seed)\n",
        "    learner_prop.fit(X_prop_train[keeplow,:], y_prop_train[keeplow])\n",
        "    y_pred = learner_prop.predict(X_test)\n",
        "    results[f'{method}_low'] = reg_metric(y_test, y_pred)\n",
        "    results_mse[f'{method}_low'] = reg_metric_mse(y_test, y_pred)\n",
        "\n",
        "    learner_prop = xgb.XGBRegressor(n_estimators=nest, random_state=seed)\n",
        "    learner_prop.fit(X_prop_train[keephigh,:], y_prop_train[keephigh])\n",
        "    y_pred = learner_prop.predict(X_test)\n",
        "    results[f'{method}_high'] = reg_metric(y_test, y_pred)\n",
        "    results_mse[f'{method}_high'] = reg_metric_mse(y_test, y_pred)\n",
        "\n",
        "    return results, results_mse"
      ]
    },
    {
      "attachments": {},
      "cell_type": "markdown",
      "id": "icCZ36JolF2J",
      "metadata": {
        "id": "icCZ36JolF2J"
      },
      "source": [
        "### Computation"
      ]
    },
    {
      "cell_type": "code",
      "execution_count": 7,
      "id": "Y0E_4SMl5Pra",
      "metadata": {
        "colab": {
          "base_uri": "https://localhost:8080/"
        },
        "id": "Y0E_4SMl5Pra",
        "outputId": "a2cf37b7-439e-4169-dff8-df68073f0892"
      },
      "outputs": [
        {
          "name": "stderr",
          "output_type": "stream",
          "text": [
            "\r  0%|          | 0/10 [00:00<?, ?it/s]"
          ]
        },
        {
          "name": "stdout",
          "output_type": "stream",
          "text": [
            "--------------------------------\n",
            "Running cal size = 0.01\n",
            "--------------------------------\n"
          ]
        },
        {
          "name": "stderr",
          "output_type": "stream",
          "text": [
            "WARNING:pydvl.utils.parallel.backend:Cancellation of futures is not supported by the joblib backend\n"
          ]
        },
        {
          "name": "stdout",
          "output_type": "stream",
          "text": [
            "running shap...\n"
          ]
        },
        {
          "name": "stderr",
          "output_type": "stream",
          "text": [
            "\r 10%|█         | 1/10 [49:26<7:24:58, 2966.50s/it]"
          ]
        },
        {
          "name": "stdout",
          "output_type": "stream",
          "text": [
            "2326 2326\n",
            "DV...\n",
            "--------------------------------\n",
            "Running cal size = 0.02\n",
            "--------------------------------\n"
          ]
        },
        {
          "name": "stderr",
          "output_type": "stream",
          "text": [
            "WARNING:pydvl.utils.parallel.backend:Cancellation of futures is not supported by the joblib backend\n"
          ]
        },
        {
          "name": "stdout",
          "output_type": "stream",
          "text": [
            "running shap...\n"
          ]
        },
        {
          "name": "stderr",
          "output_type": "stream",
          "text": [
            "\r 20%|██        | 2/10 [1:38:56<6:35:46, 2968.27s/it]"
          ]
        },
        {
          "name": "stdout",
          "output_type": "stream",
          "text": [
            "2042 2042\n",
            "DV...\n",
            "--------------------------------\n",
            "Running cal size = 0.03\n",
            "--------------------------------\n"
          ]
        },
        {
          "name": "stderr",
          "output_type": "stream",
          "text": [
            "WARNING:pydvl.utils.parallel.backend:Cancellation of futures is not supported by the joblib backend\n"
          ]
        },
        {
          "name": "stdout",
          "output_type": "stream",
          "text": [
            "running shap...\n"
          ]
        },
        {
          "name": "stderr",
          "output_type": "stream",
          "text": [
            "\r 30%|███       | 3/10 [2:29:09<5:48:42, 2988.89s/it]"
          ]
        },
        {
          "name": "stdout",
          "output_type": "stream",
          "text": [
            "2290 2290\n",
            "DV...\n",
            "--------------------------------\n",
            "Running cal size = 0.04\n",
            "--------------------------------\n"
          ]
        },
        {
          "name": "stderr",
          "output_type": "stream",
          "text": [
            "WARNING:pydvl.utils.parallel.backend:Cancellation of futures is not supported by the joblib backend\n"
          ]
        },
        {
          "name": "stdout",
          "output_type": "stream",
          "text": [
            "running shap...\n"
          ]
        },
        {
          "name": "stderr",
          "output_type": "stream",
          "text": [
            "\r 40%|████      | 4/10 [3:20:02<5:01:24, 3014.06s/it]"
          ]
        },
        {
          "name": "stdout",
          "output_type": "stream",
          "text": [
            "1771 1771\n",
            "DV...\n",
            "--------------------------------\n",
            "Running cal size = 0.05\n",
            "--------------------------------\n"
          ]
        },
        {
          "name": "stderr",
          "output_type": "stream",
          "text": [
            "WARNING:pydvl.utils.parallel.backend:Cancellation of futures is not supported by the joblib backend\n"
          ]
        },
        {
          "name": "stdout",
          "output_type": "stream",
          "text": [
            "running shap...\n"
          ]
        },
        {
          "name": "stderr",
          "output_type": "stream",
          "text": [
            "\r 50%|█████     | 5/10 [4:08:50<4:08:36, 2983.34s/it]"
          ]
        },
        {
          "name": "stdout",
          "output_type": "stream",
          "text": [
            "1608 1608\n",
            "DV...\n",
            "--------------------------------\n",
            "Running cal size = 0.1\n",
            "--------------------------------\n"
          ]
        },
        {
          "name": "stderr",
          "output_type": "stream",
          "text": [
            "WARNING:pydvl.utils.parallel.backend:Cancellation of futures is not supported by the joblib backend\n"
          ]
        },
        {
          "name": "stdout",
          "output_type": "stream",
          "text": [
            "running shap...\n"
          ]
        },
        {
          "name": "stderr",
          "output_type": "stream",
          "text": [
            "\r 60%|██████    | 6/10 [4:58:35<3:18:55, 2983.79s/it]"
          ]
        },
        {
          "name": "stdout",
          "output_type": "stream",
          "text": [
            "1535 1535\n",
            "DV...\n",
            "--------------------------------\n",
            "Running cal size = 0.2\n",
            "--------------------------------\n"
          ]
        },
        {
          "name": "stderr",
          "output_type": "stream",
          "text": [
            "WARNING:pydvl.utils.parallel.backend:Cancellation of futures is not supported by the joblib backend\n"
          ]
        },
        {
          "name": "stdout",
          "output_type": "stream",
          "text": [
            "running shap...\n"
          ]
        },
        {
          "name": "stderr",
          "output_type": "stream",
          "text": [
            "\r 70%|███████   | 7/10 [5:48:49<2:29:40, 2993.66s/it]"
          ]
        },
        {
          "name": "stdout",
          "output_type": "stream",
          "text": [
            "1720 1720\n",
            "DV...\n",
            "--------------------------------\n",
            "Running cal size = 0.3\n",
            "--------------------------------\n"
          ]
        },
        {
          "name": "stderr",
          "output_type": "stream",
          "text": [
            "WARNING:pydvl.utils.parallel.backend:Cancellation of futures is not supported by the joblib backend\n"
          ]
        },
        {
          "name": "stdout",
          "output_type": "stream",
          "text": [
            "running shap...\n"
          ]
        },
        {
          "name": "stderr",
          "output_type": "stream",
          "text": [
            "\r 80%|████████  | 8/10 [6:40:15<1:40:46, 3023.02s/it]"
          ]
        },
        {
          "name": "stdout",
          "output_type": "stream",
          "text": [
            "1552 1552\n",
            "DV...\n",
            "--------------------------------\n",
            "Running cal size = 0.4\n",
            "--------------------------------\n"
          ]
        },
        {
          "name": "stderr",
          "output_type": "stream",
          "text": [
            "WARNING:pydvl.utils.parallel.backend:Cancellation of futures is not supported by the joblib backend\n"
          ]
        },
        {
          "name": "stdout",
          "output_type": "stream",
          "text": [
            "running shap...\n"
          ]
        },
        {
          "name": "stderr",
          "output_type": "stream",
          "text": [
            "\r 90%|█████████ | 9/10 [7:29:27<50:00, 3000.95s/it]  "
          ]
        },
        {
          "name": "stdout",
          "output_type": "stream",
          "text": [
            "1678 1678\n",
            "DV...\n",
            "--------------------------------\n",
            "Running cal size = 0.5\n",
            "--------------------------------\n"
          ]
        },
        {
          "name": "stderr",
          "output_type": "stream",
          "text": [
            "WARNING:pydvl.utils.parallel.backend:Cancellation of futures is not supported by the joblib backend\n"
          ]
        },
        {
          "name": "stdout",
          "output_type": "stream",
          "text": [
            "running shap...\n"
          ]
        },
        {
          "name": "stderr",
          "output_type": "stream",
          "text": [
            "100%|██████████| 10/10 [8:19:51<00:00, 2999.18s/it]"
          ]
        },
        {
          "name": "stdout",
          "output_type": "stream",
          "text": [
            "1641 1641\n",
            "DV...\n"
          ]
        },
        {
          "name": "stderr",
          "output_type": "stream",
          "text": [
            "\n"
          ]
        }
      ],
      "source": [
        "import numpy as np\n",
        "from sklearn import datasets\n",
        "import matplotlib.pyplot as plt #for plotting\n",
        "\n",
        "from tqdm import tqdm\n",
        "\n",
        "from copy import deepcopy\n",
        "import random\n",
        "import time\n",
        "import xgboost as xgb\n",
        "from tqdm import tqdm\n",
        "full_results = {}\n",
        "full_results_mse = {}\n",
        "\n",
        "full_shap_results = {}\n",
        "full_shap_results_mse = {}\n",
        "\n",
        "\n",
        "cal_list = [0.01, 0.02, 0.03, 0.04, 0.05, 0.1, 0.2, 0.3,  0.4,0.5]\n",
        "n_runs = 1\n",
        "\n",
        "full_triage_time = {}\n",
        "full_shap_time = {}\n",
        "for cal_size in tqdm(cal_list):\n",
        "    print(\"--------------------------------\")\n",
        "    print(f\"Running cal size = {cal_size}\")\n",
        "    print(\"--------------------------------\")\n",
        "    final_results = []\n",
        "    final_results_mse = []\n",
        "\n",
        "    final_shap_results = []\n",
        "    final_shap_results_mse = []\n",
        "\n",
        "\n",
        "    triage_time = []\n",
        "    shap_time = []\n",
        "    for i in range(n_runs):\n",
        "\n",
        "        seed = i *10\n",
        "        random.seed(seed)\n",
        "\n",
        "        X_prop_train, y_prop_train, _ = load_seer_cutract_dataset(name=\"seer\", seed=seed)\n",
        "        train_ids = random.sample(list(range(len(y_prop_train))),int(0.2*len(y_prop_train)))\n",
        "        y_prop_train = y_prop_train[train_ids]\n",
        "        X_prop_train = X_prop_train.iloc[train_ids,:]\n",
        "\n",
        "        X_prop_train = X_prop_train.reset_index(drop=True)\n",
        "        y_prop_train = y_prop_train.reset_index(drop=True)\n",
        "\n",
        "        min_y = y_prop_train.min()\n",
        "        max_y = y_prop_train.max()\n",
        "\n",
        "        y_prop_train = np.array([(y_prop_train[i]-min_y)/(max_y-min_y) for i in range(len(y_prop_train))])\n",
        "        y_prop_train = pd.Series(y_prop_train)\n",
        "\n",
        "        X_eval, y_eval, _ = load_seer_cutract_dataset(name=\"cutract\", seed=seed)\n",
        "\n",
        "        y_eval = np.array([(y_eval[i]-min_y)/(max_y-min_y) for i in range(len(y_eval))])\n",
        "        y_eval = pd.Series(y_eval)\n",
        "\n",
        "        test_ids = random.sample(list(range(len(y_eval))),int(0.5*len(y_eval)))\n",
        "\n",
        "        X_test, y_test = X_eval.iloc[test_ids,:], y_eval.iloc[test_ids]\n",
        "\n",
        "        remaining_eval_ids = np.setdiff1d(range(len(y_eval)), test_ids)\n",
        "\n",
        "        _, X_cal, _, y_cal = train_test_split(X_eval.iloc[remaining_eval_ids,:],\n",
        "                                              y_eval.iloc[remaining_eval_ids],\n",
        "                                              test_size=cal_size,\n",
        "                                             random_state=seed)\n",
        "\n",
        "        X_prop_train, X_cal, X_test = np.array(X_prop_train), np.array(X_cal), np.array(X_test)\n",
        "        y_prop_train, y_cal, y_test = np.array(y_prop_train), np.array(y_cal), np.array(y_test)\n",
        "\n",
        "        prop = 0.1\n",
        "        num_ids = int(prop*len(y_prop_train))\n",
        "        last_ids = range(len(y_prop_train))\n",
        "        y_prop_train_corrupt = deepcopy(y_prop_train)\n",
        "        corruptids = random.sample(list(last_ids),num_ids)\n",
        "        for myid in corruptids:\n",
        "            corruption = (np.random.choice(5, 1)[0]/2)+1\n",
        "            y_prop_train_corrupt[myid] = y_prop_train_corrupt[myid]*corruption\n",
        "\n",
        "        start = time.time()\n",
        "\n",
        "        nest = 10\n",
        "        learner = xgb.XGBRegressor(n_estimators=nest, random_state=seed)\n",
        "        learner.fit(X_prop_train, y_prop_train)\n",
        "\n",
        "        y_eval = y_prop_train\n",
        "        X_eval = X_prop_train\n",
        "\n",
        "        triage = Triage(X_eval = X_eval, y_eval = y_eval, X_cal=X_cal, y_cal=y_cal, nest=nest, learner=learner)\n",
        "        groups_ids, raw_metrics = triage.run()\n",
        "\n",
        "        triage_array = raw_metrics['score_metric']\n",
        "\n",
        "        percentile_thresh = 75\n",
        "        thresh = 0.33\n",
        "        conf_thresh_low = thresh\n",
        "        conf_thresh_high = 1 - thresh\n",
        "        conf_thresh = 0.5\n",
        "\n",
        "        variability=  np.std(triage_array, axis=-1) \n",
        "        confidence = np.mean(triage_array, axis=-1)\n",
        "\n",
        "        uncert_percentile = np.percentile(variability, percentile_thresh)\n",
        "\n",
        "\n",
        "        oe_ids = np.where(\n",
        "            (confidence <= conf_thresh_low)\n",
        "            & (variability <= np.percentile(variability, percentile_thresh))\n",
        "        )[0]\n",
        "        ue_ids = np.where(\n",
        "            (confidence >= conf_thresh_high)\n",
        "            & (variability <= np.percentile(variability, percentile_thresh))\n",
        "        )[0]\n",
        "\n",
        "        other_ids = np.concatenate((oe_ids, ue_ids))\n",
        "        we_ids = []\n",
        "        for id in range(len(confidence)):\n",
        "            if id not in other_ids:\n",
        "                we_ids.append(id)\n",
        "\n",
        "        we_ids = np.array(we_ids)\n",
        "\n",
        "        end = time.time()\n",
        "        duration_triage = end-start\n",
        "\n",
        "        n_keep = len(we_ids)\n",
        "\n",
        "\n",
        "        results, results_mse = evaluate_methods(X_prop_train, y_prop_train, X_cal, y_cal, X_test, y_test, seed)\n",
        "        final_results.append(results)\n",
        "        final_results_mse.append(results_mse)\n",
        "\n",
        "        print('running shap...')\n",
        "        start_shap = time.time()\n",
        "        results, results_mse = evaluate_dv(X_prop_train, y_prop_train, X_cal, y_cal, X_test, y_test, seed,  method = 'shap', n_keep = n_keep)\n",
        "        end_shap = time.time()\n",
        "        duration_shap = end_shap-start_shap\n",
        "        final_shap_results.append(results)\n",
        "        final_shap_results_mse.append(results_mse)\n",
        "\n",
        "        triage_time.append(duration_triage)\n",
        "        shap_time.append(duration_shap)\n",
        "\n",
        "    full_results[cal_size] = final_results\n",
        "    full_results_mse[cal_size] = final_results_mse\n",
        "\n",
        "    full_shap_results[cal_size] = final_shap_results\n",
        "    full_shap_results_mse[cal_size] = final_shap_results_mse\n",
        "\n",
        "    full_triage_time[cal_size] = triage_time\n",
        "    full_shap_time[cal_size] = shap_time"
      ]
    },
    {
      "cell_type": "code",
      "execution_count": null,
      "id": "AdKMKhzPhSVU",
      "metadata": {
        "colab": {
          "base_uri": "https://localhost:8080/"
        },
        "id": "AdKMKhzPhSVU",
        "outputId": "a14b6aed-6b98-4d0a-b058-4ee48eb02962"
      },
      "outputs": [
        {
          "data": {
            "text/plain": [
              "{0.01: [{'shap_low': 0.25830538095777283, 'shap_high': 0.05820445305911615}],\n",
              " 0.02: [{'shap_low': 0.2560501944752939, 'shap_high': 0.04419557922129634}],\n",
              " 0.03: [{'shap_low': 0.18012991135476314, 'shap_high': 0.048918378598371386}],\n",
              " 0.04: [{'shap_low': 0.19161819635761165, 'shap_high': 0.047215495272554}],\n",
              " 0.05: [{'shap_low': 0.13740048306995936, 'shap_high': 0.05887530064544275}],\n",
              " 0.1: [{'shap_low': 0.18396199151013762, 'shap_high': 0.04903900877714909}],\n",
              " 0.2: [{'shap_low': 0.2006245254071296, 'shap_high': 0.050147807313831845}],\n",
              " 0.3: [{'shap_low': 0.198692523785574, 'shap_high': 0.046094434142690335}],\n",
              " 0.4: [{'shap_low': 0.2060695989653049, 'shap_high': 0.046892775629188733}],\n",
              " 0.5: [{'shap_low': 0.18719929845477792, 'shap_high': 0.04574203787643775}]}"
            ]
          },
          "execution_count": 31,
          "metadata": {},
          "output_type": "execute_result"
        }
      ],
      "source": [
        "full_shap_results_mse\n"
      ]
    },
    {
      "cell_type": "code",
      "execution_count": null,
      "id": "f806f133",
      "metadata": {},
      "outputs": [],
      "source": [
        "triage_duration = {0.01: [13.592303276062012,\n",
        "  12.11628794670105,\n",
        "  13.839148044586182,\n",
        "  7.2357964515686035,\n",
        "  7.930066823959351],\n",
        " 0.02: [5.309587001800537,\n",
        "  5.600575923919678,\n",
        "  5.958172559738159,\n",
        "  7.330204248428345,\n",
        "  8.375477075576782],\n",
        " 0.03: [5.5242791175842285,\n",
        "  5.388054132461548,\n",
        "  7.5029497146606445,\n",
        "  7.681819438934326,\n",
        "  5.231717824935913],\n",
        " 0.04: [5.566140651702881,\n",
        "  7.413840055465698,\n",
        "  6.305266857147217,\n",
        "  5.485929250717163,\n",
        "  6.827686309814453],\n",
        " 0.05: [8.259703397750854,\n",
        "  5.459472417831421,\n",
        "  6.584894180297852,\n",
        "  8.091211080551147,\n",
        "  5.449443101882935],\n",
        " 0.1: [7.168504476547241,\n",
        "  5.731634616851807,\n",
        "  7.736143112182617,\n",
        "  5.730257272720337,\n",
        "  7.9520580768585205],\n",
        " 0.2: [7.778499126434326,\n",
        "  8.21269178390503,\n",
        "  8.37436580657959,\n",
        "  9.002830266952515,\n",
        "  6.270653963088989],\n",
        " 0.3: [6.816506624221802,\n",
        "  6.731396913528442,\n",
        "  8.901012182235718,\n",
        "  9.637054920196533,\n",
        "  6.678992986679077],\n",
        " 0.4: [7.619242906570435,\n",
        "  9.112505197525024,\n",
        "  9.649351119995117,\n",
        "  8.042877674102783,\n",
        "  7.815609455108643],\n",
        " 0.5: [9.616340637207031,\n",
        "  9.351863384246826,\n",
        "  7.819536447525024,\n",
        "  7.7934441566467285,\n",
        "  7.8859429359436035]}"
      ]
    },
    {
      "cell_type": "code",
      "execution_count": null,
      "id": "qJsRB4QOPTRQ",
      "metadata": {
        "colab": {
          "base_uri": "https://localhost:8080/",
          "height": 311
        },
        "id": "qJsRB4QOPTRQ",
        "outputId": "41ec5e42-f530-4a78-a456-2fe172f20603"
      },
      "outputs": [
        {
          "data": {
            "image/png": "[encoded data removed]",
            "text/plain": [
              "<Figure size 500x300 with 1 Axes>"
            ]
          },
          "metadata": {},
          "output_type": "display_data"
        }
      ],
      "source": [
        "import matplotlib.pyplot as plt\n",
        "\n",
        "triage1 = [full_triage_time[key] for key in full_triage_time.keys()]\n",
        "shap = [full_shap_time[key] for key in full_shap_time.keys()]\n",
        "triage2 = [np.mean(triage_duration[key]) for key in triage_duration.keys()]\n",
        "\n",
        "plt.figure(figsize=(5,3))\n",
        "plt.plot(np.array(list(full_triage_time.keys()))*1000, shap, label= 'Data Shapley')\n",
        "plt.plot(np.array(list(full_triage_time.keys()))*1000, triage2, label= 'TRIAGE (Ours)')\n",
        "plt.xlabel('n calibration/validation samples')\n",
        "plt.ylabel('Computation time (seconds)')\n",
        "plt.legend()\n",
        "plt.savefig('time_data_shap_small.pdf', bbox_inches=\"tight\")\n"
      ]
    }
  ],
  "metadata": {
    "colab": {
      "provenance": []
    },
    "kernelspec": {
      "display_name": "new_env_triage",
      "language": "python",
      "name": "python3"
    },
    "language_info": {
      "codemirror_mode": {
        "name": "ipython",
        "version": 3
      },
      "file_extension": ".py",
      "mimetype": "text/x-python",
      "name": "python",
      "nbconvert_exporter": "python",
      "pygments_lexer": "ipython3",
      "version": "3.10.10"
    }
  },
  "nbformat": 4,
  "nbformat_minor": 5
}
